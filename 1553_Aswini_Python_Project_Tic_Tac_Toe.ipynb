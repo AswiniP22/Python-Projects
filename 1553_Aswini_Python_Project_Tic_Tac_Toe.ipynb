{
 "cells": [
  {
   "cell_type": "code",
   "execution_count": null,
   "id": "af4a3863-dc2a-44e9-9682-932dd6a4b599",
   "metadata": {},
   "outputs": [
    {
     "name": "stdout",
     "output_type": "stream",
     "text": [
      "Welcome to Tic-Tac-Toe!\n",
      "  |   |  \n",
      "-----\n",
      "  |   |  \n",
      "-----\n",
      "  |   |  \n",
      "-----\n",
      "Player X's turn.\n"
     ]
    }
   ],
   "source": [
    "# Simple Tic-Tac-Toe Game\n",
    "\n",
    "def print_board(board):\n",
    "    for row in board:\n",
    "        print(\" | \".join(row))\n",
    "        print(\"-\" * 5)\n",
    "\n",
    "def check_winner(board):\n",
    "    # Check rows, columns, and diagonals\n",
    "    for row in board:\n",
    "        if row[0] == row[1] == row[2] and row[0] != \" \":\n",
    "            return True\n",
    "    for col in range(3):\n",
    "        if board[0][col] == board[1][col] == board[2][col] and board[0][col] != \" \":\n",
    "            return True\n",
    "    if board[0][0] == board[1][1] == board[2][2] and board[0][0] != \" \":\n",
    "            return True\n",
    "    if board[0][2] == board[1][1] == board[2][0] and board[0][2] != \" \":\n",
    "            return True\n",
    "    return Fals\n",
    "\n",
    "def is_full(board):\n",
    "    for row in board:\n",
    "        if \" \" in row:\n",
    "            return False\n",
    "    return True\n",
    "\n",
    "def tic_tac_toe():\n",
    "    board = [[\" \" for _ in range(3)] for _ in range(3)]\n",
    "    player = \"X\"\n",
    "\n",
    "    print(\"Welcome to Tic-Tac-Toe!\")\n",
    "    while True:\n",
    "        print_board(board)\n",
    "        print(f\"Player {player}'s turn.\")\n",
    "        row = int(input(\"Enter row (0, 1, 2): \"))\n",
    "        col = int(input(\"Enter column (0, 1, 2): \"))\n",
    "\n",
    "        if board[row][col] == \" \":\n",
    "            board[row][col] = player\n",
    "            if check_winner(board):\n",
    "                print_board(board)\n",
    "                print(f\"Player {player} wins! 🎉\")\n",
    "                break\n",
    "            elif is_full(board):\n",
    "                print_board(board)\n",
    "                print(\"It's a tie! 🤝\")\n",
    "                break\n",
    "            player = \"O\" if player == \"X\" else \"X\"\n",
    "        else:\n",
    "            print(\"Cell is already taken. Try again!\")\n",
    "\n",
    "# Run the game\n",
    "tic_tac_toe()"
   ]
  }
 ],
 "metadata": {
  "kernelspec": {
   "display_name": "Python 3 (ipykernel)",
   "language": "python",
   "name": "python3"
  },
  "language_info": {
   "codemirror_mode": {
    "name": "ipython",
    "version": 3
   },
   "file_extension": ".py",
   "mimetype": "text/x-python",
   "name": "python",
   "nbconvert_exporter": "python",
   "pygments_lexer": "ipython3",
   "version": "3.12.7"
  }
 },
 "nbformat": 4,
 "nbformat_minor": 5
}
