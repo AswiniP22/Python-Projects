{
 "cells": [
  {
   "cell_type": "code",
   "execution_count": 1,
   "id": "e49cf189-b57c-4621-a95f-aafb9cf28318",
   "metadata": {},
   "outputs": [
    {
     "name": "stdout",
     "output_type": "stream",
     "text": [
      "🎮 Welcome to Hand Cricket! 🎉\n",
      "Rules: Pick a number between 1 and 6. If your number matches the computer's, you're out!\n",
      "Let's play! 🏏\n",
      "\n"
     ]
    },
    {
     "name": "stdin",
     "output_type": "stream",
     "text": [
      "Your turn! Enter a number (1-6):  5\n"
     ]
    },
    {
     "name": "stdout",
     "output_type": "stream",
     "text": [
      "The computer bowled: 3\n",
      "Your score: 5\n"
     ]
    },
    {
     "name": "stdin",
     "output_type": "stream",
     "text": [
      "Your turn! Enter a number (1-6):  6\n"
     ]
    },
    {
     "name": "stdout",
     "output_type": "stream",
     "text": [
      "The computer bowled: 1\n",
      "Your score: 11\n"
     ]
    },
    {
     "name": "stdin",
     "output_type": "stream",
     "text": [
      "Your turn! Enter a number (1-6):  5\n"
     ]
    },
    {
     "name": "stdout",
     "output_type": "stream",
     "text": [
      "The computer bowled: 2\n",
      "Your score: 16\n"
     ]
    },
    {
     "name": "stdin",
     "output_type": "stream",
     "text": [
      "Your turn! Enter a number (1-6):  2\n"
     ]
    },
    {
     "name": "stdout",
     "output_type": "stream",
     "text": [
      "The computer bowled: 3\n",
      "Your score: 18\n"
     ]
    },
    {
     "name": "stdin",
     "output_type": "stream",
     "text": [
      "Your turn! Enter a number (1-6):  5\n"
     ]
    },
    {
     "name": "stdout",
     "output_type": "stream",
     "text": [
      "The computer bowled: 5\n",
      "You're OUT! 😱\n",
      "\n",
      "Your final score: 18\n",
      "\n",
      "Now it's the computer's turn to bat. Can you bowl them out? 🏏\n",
      "\n"
     ]
    },
    {
     "name": "stdin",
     "output_type": "stream",
     "text": [
      "Your turn to bowl! Enter a number (1-6):  5\n"
     ]
    },
    {
     "name": "stdout",
     "output_type": "stream",
     "text": [
      "The computer batted: 4\n",
      "Computer's score: 4\n"
     ]
    },
    {
     "name": "stdin",
     "output_type": "stream",
     "text": [
      "Your turn to bowl! Enter a number (1-6):  4\n"
     ]
    },
    {
     "name": "stdout",
     "output_type": "stream",
     "text": [
      "The computer batted: 1\n",
      "Computer's score: 5\n"
     ]
    },
    {
     "name": "stdin",
     "output_type": "stream",
     "text": [
      "Your turn to bowl! Enter a number (1-6):  6\n"
     ]
    },
    {
     "name": "stdout",
     "output_type": "stream",
     "text": [
      "The computer batted: 2\n",
      "Computer's score: 7\n"
     ]
    },
    {
     "name": "stdin",
     "output_type": "stream",
     "text": [
      "Your turn to bowl! Enter a number (1-6):  5\n"
     ]
    },
    {
     "name": "stdout",
     "output_type": "stream",
     "text": [
      "The computer batted: 5\n",
      "You got the computer OUT! 🎉\n",
      "\n",
      "🏆 Final Result:\n",
      "Your Score: 18\n",
      "Computer's Score: 7\n",
      "🎉 Congratulations! You won! 🥳\n"
     ]
    }
   ],
   "source": [
    "import random\n",
    "\n",
    "def hand_cricket():\n",
    "    print(\"🎮 Welcome to Hand Cricket! 🎉\")\n",
    "    print(\"Rules: Pick a number between 1 and 6. If your number matches the computer's, you're out!\")\n",
    "    print(\"Let's play! 🏏\\n\")\n",
    "\n",
    "    # Player's batting phase\n",
    "    player_score = 0\n",
    "    while True:\n",
    "        try:\n",
    "            player_input = int(input(\"Your turn! Enter a number (1-6): \"))\n",
    "            if player_input < 1 or player_input > 6:\n",
    "                print(\"Invalid input! Please enter a number between 1 and 6.\")\n",
    "                continue\n",
    "\n",
    "            computer_choice = random.randint(1, 6)\n",
    "            print(f\"The computer bowled: {computer_choice}\")\n",
    "\n",
    "            if player_input == computer_choice:\n",
    "                print(\"You're OUT! 😱\")\n",
    "                break\n",
    "            else:\n",
    "                player_score += player_input\n",
    "                print(f\"Your score: {player_score}\")\n",
    "\n",
    "        except ValueError:\n",
    "            print(\"Please enter a valid number.\")\n",
    "\n",
    "    print(f\"\\nYour final score: {player_score}\")\n",
    "    print(\"\\nNow it's the computer's turn to bat. Can you bowl them out? 🏏\\n\")\n",
    "\n",
    "    # Computer's batting phase\n",
    "    computer_score = 0\n",
    "    while True:\n",
    "        try:\n",
    "            player_input = int(input(\"Your turn to bowl! Enter a number (1-6): \"))\n",
    "            if player_input < 1 or player_input > 6:\n",
    "                print(\"Invalid input! Please enter a number between 1 and 6.\")\n",
    "                continue\n",
    "\n",
    "            computer_choice = random.randint(1, 6)\n",
    "            print(f\"The computer batted: {computer_choice}\")\n",
    "\n",
    "            if player_input == computer_choice:\n",
    "                print(\"You got the computer OUT! 🎉\")\n",
    "                break\n",
    "            else:\n",
    "                computer_score += computer_choice\n",
    "                print(f\"Computer's score: {computer_score}\")\n",
    "\n",
    "                if computer_score > player_score:\n",
    "                    print(\"\\nThe computer has beaten your score! 😞\")\n",
    "                    break\n",
    "\n",
    "        except ValueError:\n",
    "            print(\"Please enter a valid number.\")\n",
    "\n",
    "    # Final result\n",
    "    print(\"\\n🏆 Final Result:\")\n",
    "    print(f\"Your Score: {player_score}\")\n",
    "    print(f\"Computer's Score: {computer_score}\")\n",
    "\n",
    "    if player_score > computer_score:\n",
    "        print(\"🎉 Congratulations! You won! 🥳\")\n",
    "    elif player_score < computer_score:\n",
    "        print(\"😞 The computer wins! Better luck next time.\")\n",
    "    else:\n",
    "        print(\"🤝 It's a tie!\")\n",
    "\n",
    "# Run the game\n",
    "hand_cricket()"
   ]
  }
 ],
 "metadata": {
  "kernelspec": {
   "display_name": "Python 3 (ipykernel)",
   "language": "python",
   "name": "python3"
  },
  "language_info": {
   "codemirror_mode": {
    "name": "ipython",
    "version": 3
   },
   "file_extension": ".py",
   "mimetype": "text/x-python",
   "name": "python",
   "nbconvert_exporter": "python",
   "pygments_lexer": "ipython3",
   "version": "3.12.7"
  }
 },
 "nbformat": 4,
 "nbformat_minor": 5
}
